{
 "cells": [
  {
   "cell_type": "code",
   "execution_count": 20,
   "metadata": {},
   "outputs": [],
   "source": [
    "%matplotlib inline"
   ]
  },
  {
   "cell_type": "markdown",
   "metadata": {},
   "source": [
    "\n",
    "NLP: Классификация фамилий с использованием рекуррентных нейронных сетей (RNN)\n",
    "**************************************************************\n",
    "**Автор идеи**: `Sean Robertson \n",
    "\n",
    "В этом учебном проекте реализована RNN для классификации слов, обученная на предварительно\n",
    "обработанных данных для моделирования NLP-моделей “с нуля”, без использования удобных функций\n",
    ", таких как `torchtext`, с целью формирования представления о препроцессенге для NLP на низком уровне.\n",
    "\n",
    "RNN считывает слова как серию символов, выдавая предсказание и скрытое состояние на каждом шаге,\n",
    "после завершения всех шагов принимается конечное предсказание за выход, т.е. к какому классу принадлежит слово.\n",
    "\n",
    "RNN обучена на нескольких тысячах фамилий из 18 языков мира (происхождения), и предсказывает, к какому языку относится фамилия, на основе орфографии:\n",
    "\n",
    "\n",
    "::\n",
    "\n",
    "    $ python predict.py Hinton\n",
    "    (-0.47) Scottish\n",
    "    (-1.52) English\n",
    "    (-3.57) Irish\n",
    "\n",
    "    $ python predict.py Schmidhuber\n",
    "    (-0.19) German\n",
    "    (-2.48) Czech\n",
    "    (-2.68) Dutch\n",
    "\n",
    ".. Примечание::\n",
    "\n",
    "   Данные со списками фамилий можно загрузить здесь:\n",
    "   <https://download.pytorch.org/tutorial/data.zip>.\n",
    "\n",
    "В директории ``data/names`` находятся 18 текстовых файлов, названных как\n",
    "\"[Language].txt\". Каждый файл содержит списки фамилий, по одной фамилии на строке,\n",
    "в основном в формате Unicode."
   ]
  },
  {
   "cell_type": "code",
   "execution_count": 1,
   "metadata": {},
   "outputs": [
    {
     "name": "stdout",
     "output_type": "stream",
     "text": [
      "['data/names\\\\Arabic.txt', 'data/names\\\\Chinese.txt', 'data/names\\\\Czech.txt', 'data/names\\\\Dutch.txt', 'data/names\\\\English.txt', 'data/names\\\\French.txt', 'data/names\\\\German.txt', 'data/names\\\\Greek.txt', 'data/names\\\\Irish.txt', 'data/names\\\\Italian.txt', 'data/names\\\\Japanese.txt', 'data/names\\\\Korean.txt', 'data/names\\\\Polish.txt', 'data/names\\\\Portuguese.txt', 'data/names\\\\Russian.txt', 'data/names\\\\Scottish.txt', 'data/names\\\\Spanish.txt', 'data/names\\\\Vietnamese.txt']\n",
      "Slusarski\n"
     ]
    }
   ],
   "source": [
    "from __future__ import unicode_literals, print_function, division\n",
    "from io import open\n",
    "import glob\n",
    "import os\n",
    "\n",
    "def findFiles(path): return glob.glob(path)\n",
    "\n",
    "print(findFiles('data/names/*.txt'))\n",
    "\n",
    "import unicodedata\n",
    "import string\n",
    "\n",
    "all_letters = string.ascii_letters + \" .,;'\"\n",
    "n_letters = len(all_letters)\n",
    "\n",
    "# преобразование формата Unicode в ASCII, для справки https://stackoverflow.com/a/518232/2809427\n",
    "def unicodeToAscii(s):\n",
    "    return ''.join(\n",
    "        c for c in unicodedata.normalize('NFD', s)\n",
    "        if unicodedata.category(c) != 'Mn'\n",
    "        and c in all_letters\n",
    "    )\n",
    "\n",
    "print(unicodeToAscii('Ślusàrski'))\n",
    "\n",
    "# построение словаря со списком фамилий для каждого языка\n",
    "category_lines = {}\n",
    "all_categories = []\n",
    "\n",
    "# чтение и разбиение файлов на строки\n",
    "def readLines(filename):\n",
    "    lines = open(filename, encoding='utf-8').read().strip().split('\\n')\n",
    "    return [unicodeToAscii(line) for line in lines]\n",
    "\n",
    "for filename in findFiles('data/names/*.txt'):\n",
    "    category = os.path.splitext(os.path.basename(filename))[0]\n",
    "    all_categories.append(category)\n",
    "    lines = readLines(filename)\n",
    "    category_lines[category] = lines\n",
    "\n",
    "n_categories = len(all_categories)"
   ]
  },
  {
   "cell_type": "markdown",
   "metadata": {},
   "source": [
    "Теперь у нас есть``category_lines``, словарь, отображающий каждую категорию (язык) со списком строк (фамилий).\n",
    "Мы также сохранили ``all_categories``  (просто список языков) и ``n_categories`` для последующего использования.\n",
    "\n",
    "\n"
   ]
  },
  {
   "cell_type": "code",
   "execution_count": 2,
   "metadata": {},
   "outputs": [
    {
     "name": "stdout",
     "output_type": "stream",
     "text": [
      "['Ababko', 'Abaev', 'Abagyan', 'Abaidulin', 'Abaidullin']\n"
     ]
    }
   ],
   "source": [
    "print(category_lines['Russian'][:5])"
   ]
  },
  {
   "cell_type": "markdown",
   "metadata": {},
   "source": [
    "Превращение имен в тензоры\n",
    "--------------------------\n",
    "\n",
    "Теперь, когда мы упорядочили все имена, нам нужно превратить их в тензоры, чтобы использовать их.\n",
    "\n",
    "Для представления одной буквы мы используем \"однобуквенный вектор\" размером\n",
    "``<1 x n_letters>``. Однобуквенный вектор заполнен 0, за исключением 1 в индексе текущей буквы, \n",
    "например, ``\"b\" = <0 1 0 0 0 ...>``.\n",
    "\n",
    "Чтобы составить слово, мы объединяем их в двумерную матрицу \n",
    "``<line_length x 1 x n_letters>``.\n",
    "\n",
    "Это дополнительное первое измерение связано с тем, что PyTorch предполагает, что все происходит \n",
    "пакетно - здесь мы просто используем размер пакета 1.\n",
    "\n",
    "\n"
   ]
  },
  {
   "cell_type": "code",
   "execution_count": 3,
   "metadata": {},
   "outputs": [
    {
     "name": "stdout",
     "output_type": "stream",
     "text": [
      "tensor([[0., 0., 0., 0., 0., 0., 0., 0., 0., 0., 0., 0., 0., 0., 0., 0., 0., 0.,\n",
      "         0., 0., 0., 0., 0., 0., 0., 0., 0., 0., 0., 0., 0., 0., 0., 0., 0., 0.,\n",
      "         0., 1., 0., 0., 0., 0., 0., 0., 0., 0., 0., 0., 0., 0., 0., 0., 0., 0.,\n",
      "         0., 0., 0.]])\n",
      "torch.Size([9, 1, 57])\n"
     ]
    }
   ],
   "source": [
    "import torch\n",
    "\n",
    "# Найти индекс буквы из всех_букв, например, \"a\" = 0\n",
    "def letterToIndex(letter):\n",
    "    return all_letters.find(letter)\n",
    "\n",
    "# Для наглядности превратим букву в <1 x n_letters> Tensor\n",
    "def letterToTensor(letter):\n",
    "    tensor = torch.zeros(1, n_letters)\n",
    "    tensor[0][letterToIndex(letter)] = 1\n",
    "    return tensor\n",
    "\n",
    "# Превратите строку в <line_length x 1 x n_letters>,\n",
    "# или массив однобуквенных векторов\n",
    "def lineToTensor(line):\n",
    "    tensor = torch.zeros(len(line), 1, n_letters)\n",
    "    for li, letter in enumerate(line):\n",
    "        tensor[li][0][letterToIndex(letter)] = 1\n",
    "    return tensor\n",
    "\n",
    "print(letterToTensor('L'))\n",
    "\n",
    "print(lineToTensor('Loverberg').size())"
   ]
  },
  {
   "attachments": {
    "%D0%B8%D0%B7%D0%BE%D0%B1%D1%80%D0%B0%D0%B6%D0%B5%D0%BD%D0%B8%D0%B5.png": {
     "image/png": "[encoded data removed]"
    }
   },
   "cell_type": "markdown",
   "metadata": {},
   "source": [
    "Создание RNN\n",
    "====================\n",
    "\n",
    "До появления автоматической дифференциации, создание рекуррентной нейронной сети в Torch заключалось в клонировании параметров слоя в течение нескольких временных интервалов. Слои содержали скрытое состояние и градиенты, которые теперь полностью обрабатываются самим графом. Это означает, что вы можете реализовать RNN в очень \"чистом\" виде, как обычные слои с прямой передачей.\n",
    "\n",
    "\n",
    "Этот модуль RNN скопирован из учебника PyTorch\n",
    "tutorial <https://pytorch.org/tutorials/beginner/former_torchies/nn_tutorial.html, это всего лишь 2 линейных слоя, которые работают с входом и скрытым состоянием, а также слой LogSoftmax после выхода.\n",
    "\n",
    "![%D0%B8%D0%B7%D0%BE%D0%B1%D1%80%D0%B0%D0%B6%D0%B5%D0%BD%D0%B8%D0%B5.png](attachment:%D0%B8%D0%B7%D0%BE%D0%B1%D1%80%D0%B0%D0%B6%D0%B5%D0%BD%D0%B8%D0%B5.png)\n",
    "\n"
   ]
  },
  {
   "cell_type": "code",
   "execution_count": 5,
   "metadata": {},
   "outputs": [],
   "source": [
    "import torch.nn as nn\n",
    "\n",
    "class RNN(nn.Module):\n",
    "    def __init__(self, input_size, hidden_size, output_size):\n",
    "        super(RNN, self).__init__()\n",
    "\n",
    "        self.hidden_size = hidden_size\n",
    "\n",
    "        self.i2h = nn.Linear(input_size + hidden_size, hidden_size)\n",
    "        self.i2o = nn.Linear(input_size + hidden_size, output_size)\n",
    "        self.softmax = nn.LogSoftmax(dim=1)\n",
    "\n",
    "    def forward(self, input, hidden):\n",
    "        combined = torch.cat((input, hidden), 1)\n",
    "        hidden = self.i2h(combined)\n",
    "        output = self.i2o(combined)\n",
    "        output = self.softmax(output)\n",
    "        return output, hidden\n",
    "\n",
    "    def initHidden(self):\n",
    "        return torch.zeros(1, self.hidden_size)\n",
    "\n",
    "n_hidden = 128\n",
    "rnn = RNN(n_letters, n_hidden, n_categories)"
   ]
  },
  {
   "cell_type": "markdown",
   "metadata": {},
   "source": [
    "Чтобы запустить шаг этой сети, нам нужно передать вход (в нашем случае тензор для текущей буквы) и предыдущее скрытое состояние (которое мы сначала инициализируем нулями). Мы получим обратно выход (вероятность каждого языка) и следующее скрытое состояние (которое мы сохраним для следующего шага)."
   ]
  },
  {
   "cell_type": "code",
   "execution_count": 6,
   "metadata": {},
   "outputs": [],
   "source": [
    "input = letterToTensor('A')\n",
    "hidden = torch.zeros(1, n_hidden)\n",
    "\n",
    "output, next_hidden = rnn(input, hidden)"
   ]
  },
  {
   "cell_type": "markdown",
   "metadata": {},
   "source": [
    "В целях эффективности мы не хотим создавать новый тензор для каждого шага, поэтому мы будем использовать lineToTensor вместо letterToTensor и использовать срезы. Это оптимизирует использование ресурсов, предварительно вычисляя партии тензоров.\n"
   ]
  },
  {
   "cell_type": "code",
   "execution_count": 7,
   "metadata": {},
   "outputs": [
    {
     "name": "stdout",
     "output_type": "stream",
     "text": [
      "tensor([[-2.8598, -2.8694, -2.8770, -2.9851, -2.9078, -2.7838, -2.8368, -2.9699,\n",
      "         -2.9385, -2.9016, -2.8942, -2.8628, -2.9484, -2.9829, -2.8569, -2.8739,\n",
      "         -2.8425, -2.8607]], grad_fn=<LogSoftmaxBackward0>)\n"
     ]
    }
   ],
   "source": [
    "input = lineToTensor('Albert')\n",
    "hidden = torch.zeros(1, n_hidden)\n",
    "\n",
    "output, next_hidden = rnn(input[0], hidden)\n",
    "print(output)"
   ]
  },
  {
   "cell_type": "markdown",
   "metadata": {},
   "source": [
    "Результатом является тензор <1 x n_categories>, где каждый элемент является вероятностью данной категории (чем выше, тем вероятнее)."
   ]
  },
  {
   "cell_type": "markdown",
   "metadata": {},
   "source": [
    "Обучение¶\n",
    "========\n",
    "Подготовка к обучению\n",
    "----------------------\n",
    "\n",
    "Прежде чем приступить к обучению, мы должны сделать несколько вспомогательных функций. Первая - интерпретировать выход сети, который, как мы знаем, является вероятностью каждой категории. Мы можем использовать Tensor.topk, чтобы получить индекс наибольшего значения:\n",
    "\n",
    "\n",
    "\n"
   ]
  },
  {
   "cell_type": "code",
   "execution_count": 8,
   "metadata": {},
   "outputs": [
    {
     "name": "stdout",
     "output_type": "stream",
     "text": [
      "('French', 5)\n"
     ]
    }
   ],
   "source": [
    "def categoryFromOutput(output):\n",
    "    top_n, top_i = output.topk(1)\n",
    "    category_i = top_i[0].item()\n",
    "    return all_categories[category_i], category_i\n",
    "\n",
    "print(categoryFromOutput(output))"
   ]
  },
  {
   "cell_type": "markdown",
   "metadata": {},
   "source": [
    "Нам также нужен быстрый способ получения учебного экземпляра (фамилия и его язык):\n",
    "\n"
   ]
  },
  {
   "cell_type": "code",
   "execution_count": 9,
   "metadata": {},
   "outputs": [
    {
     "name": "stdout",
     "output_type": "stream",
     "text": [
      "category = Portuguese / line = Machado\n",
      "category = Greek / line = Moraitopoulos\n",
      "category = Japanese / line = Inukai\n",
      "category = English / line = Halliwell\n",
      "category = Dutch / line = Rooiakker\n",
      "category = Vietnamese / line = Dam\n",
      "category = French / line = Yount\n",
      "category = Scottish / line = Robertson\n",
      "category = Scottish / line = Mcgregor\n",
      "category = Dutch / line = Nifterick\n"
     ]
    }
   ],
   "source": [
    "import random\n",
    "\n",
    "def randomChoice(l):\n",
    "    return l[random.randint(0, len(l) - 1)]\n",
    "\n",
    "def randomTrainingExample():\n",
    "    category = randomChoice(all_categories)\n",
    "    line = randomChoice(category_lines[category])\n",
    "    category_tensor = torch.tensor([all_categories.index(category)], dtype=torch.long)\n",
    "    line_tensor = lineToTensor(line)\n",
    "    return category, line, category_tensor, line_tensor\n",
    "\n",
    "for i in range(10):\n",
    "    category, line, category_tensor, line_tensor = randomTrainingExample()\n",
    "    print('category =', category, '/ line =', line)"
   ]
  },
  {
   "cell_type": "markdown",
   "metadata": {},
   "source": [
    "Обучение сети\n",
    "--------------------\n",
    "\n",
    "Теперь, чтобы обучить эту сеть, достаточно показать ей множество примеров, получить предсказания и штрафовать, если она ошибается.\n",
    "\n",
    "Для функции потерь подходит ``nn.NLLLoss`` так как последний\n",
    "слой RNN - ``nn.LogSoftmax``."
   ]
  },
  {
   "cell_type": "code",
   "execution_count": 10,
   "metadata": {},
   "outputs": [],
   "source": [
    "criterion = nn.NLLLoss()"
   ]
  },
  {
   "cell_type": "markdown",
   "metadata": {},
   "source": [
    "Каждый цикл обучения будет:\n",
    "\n",
    "- Создавать входной и целевой тензоры\n",
    "- Создавать обнуленное начальное скрытое состояние\n",
    "- Считывать каждую букву и\n",
    "\n",
    "   - Сохранять скрытое состояние для следующей буквы\n",
    "\n",
    "- Сравнивать конечный результат с целевым\n",
    "- Активировать алгоитм обратного распространения ошибки \n",
    "- Возвращать выход\n"
   ]
  },
  {
   "cell_type": "code",
   "execution_count": 11,
   "metadata": {},
   "outputs": [],
   "source": [
    "learning_rate = 0.005 # коэффициент обучения нуждается в тонкой настройке\n",
    "\n",
    "def train(category_tensor, line_tensor):\n",
    "    hidden = rnn.initHidden()\n",
    "\n",
    "    rnn.zero_grad()\n",
    "\n",
    "    for i in range(line_tensor.size()[0]):\n",
    "        output, hidden = rnn(line_tensor[i], hidden)\n",
    "\n",
    "    loss = criterion(output, category_tensor)\n",
    "    loss.backward()\n",
    "\n",
    "    # Добавить градиенты параметров к их значениям, умноженным на скорость обучения\n",
    "    for p in rnn.parameters():\n",
    "        p.data.add_(p.grad.data, alpha=-learning_rate)\n",
    "\n",
    "    return output, loss.item()"
   ]
  },
  {
   "cell_type": "markdown",
   "metadata": {},
   "source": [
    "Теперь нам осталось запустить эту функцию на множестве примеров. Поскольку функция train возвращает и выход, и потери, мы можем вывести ее результаты, а также отслеживать потери для построения графика. \n",
    "\n"
   ]
  },
  {
   "cell_type": "code",
   "execution_count": null,
   "metadata": {},
   "outputs": [
    {
     "name": "stdout",
     "output_type": "stream",
     "text": [
      "5000 5% (0m 8s) 3.0890 Gajos / Greek ✗ (Polish)\n",
      "10000 10% (0m 14s) 2.5925 Rooke / Arabic ✗ (English)\n",
      "15000 15% (0m 22s) 4.3835 Morcos / Greek ✗ (Arabic)\n",
      "20000 20% (0m 29s) 2.2697 Broughton / Scottish ✗ (English)\n",
      "25000 25% (0m 37s) 2.5538 Quasninsky / Polish ✗ (Czech)\n",
      "30000 30% (0m 45s) 1.0211 Romijnsen / Dutch ✓\n",
      "35000 35% (0m 52s) 2.3436 Essa / Spanish ✗ (Arabic)\n",
      "40000 40% (1m 0s) 2.1816 Fereday / Irish ✗ (English)\n",
      "45000 45% (1m 8s) 0.5778 Kaczka / Polish ✓\n"
     ]
    }
   ],
   "source": [
    "import time\n",
    "import math\n",
    "\n",
    "n_iters = 100000\n",
    "print_every = 5000\n",
    "plot_every = 1000\n",
    "\n",
    "# лог потерь, используем для построения графика обучения\n",
    "current_loss = 0\n",
    "all_losses = []\n",
    "\n",
    "def timeSince(since):\n",
    "    now = time.time()\n",
    "    s = now - since\n",
    "    m = math.floor(s / 60)\n",
    "    s -= m * 60\n",
    "    return '%dm %ds' % (m, s)\n",
    "\n",
    "start = time.time()\n",
    "\n",
    "for iter in range(1, n_iters + 1):\n",
    "    category, line, category_tensor, line_tensor = randomTrainingExample()\n",
    "    output, loss = train(category_tensor, line_tensor)\n",
    "    current_loss += loss\n",
    "\n",
    "    # Печать номера итерации, поторь, экземпляр и предсказание\n",
    "    if iter % print_every == 0:\n",
    "        guess, guess_i = categoryFromOutput(output)\n",
    "        correct = '✓' if guess == category else '✗ (%s)' % category\n",
    "        print('%d %d%% (%s) %.4f %s / %s %s' % (iter, iter / n_iters * 100, timeSince(start), loss, line, guess, correct))\n",
    "\n",
    "    # Добавить текущее среднее значение потерь в список\n",
    "    if iter % plot_every == 0:\n",
    "        all_losses.append(current_loss / plot_every)\n",
    "        current_loss = 0"
   ]
  },
  {
   "cell_type": "markdown",
   "metadata": {},
   "source": [
    "Отображение результатов обучения\n",
    "--------------------\n",
    "\n",
    "Визуализация обучения модели от списка ``all_losses``"
   ]
  },
  {
   "cell_type": "code",
   "execution_count": 46,
   "metadata": {},
   "outputs": [
    {
     "data": {
      "text/plain": [
       "[<matplotlib.lines.Line2D at 0x188438268b0>]"
      ]
     },
     "execution_count": 46,
     "metadata": {},
     "output_type": "execute_result"
    },
    {
     "data": {
      "image/png": "[encoded data removed]",
      "text/plain": [
       "<Figure size 432x288 with 1 Axes>"
      ]
     },
     "metadata": {
      "needs_background": "light"
     },
     "output_type": "display_data"
    }
   ],
   "source": [
    "import matplotlib.pyplot as plt\n",
    "import matplotlib.ticker as ticker\n",
    "\n",
    "plt.figure()\n",
    "plt.plot(all_losses)"
   ]
  },
  {
   "cell_type": "markdown",
   "metadata": {},
   "source": [
    "Оценка результатов\n",
    "======================\n",
    "\n",
    "Чтобы увидеть, насколько хорошо сеть справляется с различными категориями, мы создадим матрицу ошибок, указывающую для каждого фактического языка (строки), какой язык угадала сеть (столбцы). Для расчета матрицы ошибок множество образцов прогоняется через сеть с помощью функции ``evaluate()``, которая аналогична функции ``train()`` за вычетом backprop."
   ]
  },
  {
   "cell_type": "code",
   "execution_count": 41,
   "metadata": {},
   "outputs": [
    {
     "name": "stderr",
     "output_type": "stream",
     "text": [
      "<ipython-input-41-85a8518edfdf>:33: UserWarning: FixedFormatter should only be used together with FixedLocator\n",
      "  ax.set_xticklabels([''] + all_categories, rotation=90)\n",
      "<ipython-input-41-85a8518edfdf>:34: UserWarning: FixedFormatter should only be used together with FixedLocator\n",
      "  ax.set_yticklabels([''] + all_categories)\n"
     ]
    },
    {
     "data": {
      "image/png": "[encoded data removed]",
      "text/plain": [
       "<Figure size 432x288 with 2 Axes>"
      ]
     },
     "metadata": {
      "needs_background": "light"
     },
     "output_type": "display_data"
    }
   ],
   "source": [
    "# Отслеживайте результатов \n",
    "confusion = torch.zeros(n_categories, n_categories)\n",
    "n_confusion = 10000\n",
    "\n",
    "# Просто возвращаем выход \n",
    "def evaluate(line_tensor):\n",
    "    hidden = rnn.initHidden()\n",
    "\n",
    "    for i in range(line_tensor.size()[0]):\n",
    "        output, hidden = rnn(line_tensor[i], hidden)\n",
    "\n",
    "    return output\n",
    "\n",
    "# Проверка результатов с отражением ошибок сети\n",
    "for i in range(n_confusion):\n",
    "    category, line, category_tensor, line_tensor = randomTrainingExample()\n",
    "    output = evaluate(line_tensor)\n",
    "    guess, guess_i = categoryFromOutput(output)\n",
    "    category_i = all_categories.index(category)\n",
    "    confusion[category_i][guess_i] += 1\n",
    "\n",
    "# Нормализация путем деления каждой строки на ее сумму\n",
    "for i in range(n_categories):\n",
    "    confusion[i] = confusion[i] / confusion[i].sum()\n",
    "\n",
    "# Создаем рисунок\n",
    "fig = plt.figure()\n",
    "ax = fig.add_subplot(111)\n",
    "cax = ax.matshow(confusion.numpy())\n",
    "fig.colorbar(cax)\n",
    "\n",
    "# Настраиваем оси\n",
    "ax.set_xticklabels([''] + all_categories, rotation=90)\n",
    "ax.set_yticklabels([''] + all_categories)\n",
    "\n",
    "# Добавляем примечания\n",
    "ax.xaxis.set_major_locator(ticker.MultipleLocator(1))\n",
    "ax.yaxis.set_major_locator(ticker.MultipleLocator(1))\n",
    "\n",
    "# шоу\n",
    "plt.show()"
   ]
  },
  {
   "cell_type": "markdown",
   "metadata": {},
   "source": [
    "Яркие пятна на главной оси, свидетельствуют о бОльших ошибках сети, например, китайский для корейского, и испанский для итальянского. Похоже, что сеть очень хорошо справляется с греческим и очень плохо с английским (возможно, из-за совпадения с другими языками).\n"
   ]
  },
  {
   "cell_type": "markdown",
   "metadata": {},
   "source": [
    "Работа в режиме пользователя\n",
    "---------------------\n",
    "\n",
    "\n"
   ]
  },
  {
   "cell_type": "code",
   "execution_count": 88,
   "metadata": {},
   "outputs": [],
   "source": [
    "# Добавляем транслитер для русского языка\n",
    "from translate import Translator\n",
    "translator = Translator(from_lang=\"russian\",to_lang=\"english\")\n",
    "\n",
    "# Функция предсказания\n",
    "def predict(input_line, n_predictions=3):\n",
    "    input_line = translator.translate(input_line)\n",
    "    print('\\n> %s' % input_line)\n",
    "    with torch.no_grad():\n",
    "        output = evaluate(lineToTensor(input_line))\n",
    "\n",
    "        # Get top N categories\n",
    "        topv, topi = output.topk(n_predictions, 1, True)\n",
    "        predictions = []\n",
    "\n",
    "        for i in range(n_predictions):\n",
    "            value = topv[0][i].item()\n",
    "            category_index = topi[0][i].item()\n",
    "            print('(%.2f) %s' % (value, all_categories[category_index]))\n",
    "            predictions.append([value, all_categories[category_index]])"
   ]
  },
  {
   "cell_type": "code",
   "execution_count": 93,
   "metadata": {},
   "outputs": [
    {
     "name": "stdout",
     "output_type": "stream",
     "text": [
      "\n",
      "> Rogozin\n",
      "(-1.49) Irish\n",
      "(-1.95) French\n",
      "(-2.15) Russian\n",
      "\n",
      "> Lavrov\n",
      "(-0.24) Russian\n",
      "(-3.10) French\n",
      "(-3.12) Portuguese\n",
      "\n",
      "> Shoigu\n",
      "(-0.70) Arabic\n",
      "(-1.80) Vietnamese\n",
      "(-2.27) Japanese\n"
     ]
    }
   ],
   "source": [
    "predict('Рогозин')\n",
    "predict('Лавров')\n",
    "predict('Шойгу')"
   ]
  },
  {
   "cell_type": "markdown",
   "metadata": {},
   "source": [
    "Сохранение модели\n",
    "======================\n",
    "\n",
    "В большинстве случаев модель машинного обучения в Python будет храниться в памяти как объект Python во время выполнения кода, а затем будет удалена после окончания работы программы. Если бы мы могли сохранить этот объект на жестком диске сразу после того, как модель обучится, то в следующий раз, когда нам понадобится сделать прогноз, мы сможем просто загрузить готовую модель в память и не проходить этапы инициализации и обучения. В информатике процесс преобразования объекта в поток байтов для хранения называется сериализацией. В Python это может быть легко реализовано с помощью пакета под названием pickle, который изначально имеет нативную поддержку Python. Python-разработчики еще называют «pickling» процесс сериализации объекта с помощью pickle."
   ]
  },
  {
   "cell_type": "code",
   "execution_count": 98,
   "metadata": {},
   "outputs": [],
   "source": [
    "# Импорт библиотеки для сериализации\n",
    "import pickle\n",
    "\n",
    "# Сохранение объекта модели \"rnn\" в файл pkl\n",
    "with open('./model_rnn.pkl', 'wb') as model_rnn_pkl:\n",
    "  pickle.dump(rnn, model_rnn_pkl)"
   ]
  },
  {
   "cell_type": "code",
   "execution_count": null,
   "metadata": {},
   "outputs": [],
   "source": []
  }
 ],
 "metadata": {
  "kernelspec": {
   "display_name": "Python 3",
   "language": "python",
   "name": "python3"
  },
  "language_info": {
   "codemirror_mode": {
    "name": "ipython",
    "version": 3
   },
   "file_extension": ".py",
   "mimetype": "text/x-python",
   "name": "python",
   "nbconvert_exporter": "python",
   "pygments_lexer": "ipython3",
   "version": "3.8.10"
  }
 },
 "nbformat": 4,
 "nbformat_minor": 1
}
